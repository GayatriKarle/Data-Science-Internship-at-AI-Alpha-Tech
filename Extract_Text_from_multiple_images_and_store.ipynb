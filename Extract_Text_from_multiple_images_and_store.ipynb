{
  "nbformat": 4,
  "nbformat_minor": 0,
  "metadata": {
    "colab": {
      "provenance": [],
      "collapsed_sections": [],
      "mount_file_id": "1YqSynFMptBl8K-w-4am4zm0FbCsWmzXj",
      "authorship_tag": "ABX9TyM80nNw0E17OZ83FN5u/eKF",
      "include_colab_link": true
    },
    "kernelspec": {
      "name": "python3",
      "display_name": "Python 3"
    },
    "language_info": {
      "name": "python"
    }
  },
  "cells": [
    {
      "cell_type": "markdown",
      "metadata": {
        "id": "view-in-github",
        "colab_type": "text"
      },
      "source": [
        "<a href=\"https://colab.research.google.com/github/GayatriKarle/Data-Science-Internship-at-AI-Alpha-Tech/blob/main/Extract_Text_from_multiple_images_and_store.ipynb\" target=\"_parent\"><img src=\"https://colab.research.google.com/assets/colab-badge.svg\" alt=\"Open In Colab\"/></a>"
      ]
    },
    {
      "cell_type": "code",
      "execution_count": 1,
      "metadata": {
        "colab": {
          "base_uri": "https://localhost:8080/"
        },
        "id": "TDtdS0nKxhnl",
        "outputId": "6c9ad41e-ad32-4602-f1e4-fae232a1c437"
      },
      "outputs": [
        {
          "output_type": "stream",
          "name": "stdout",
          "text": [
            "Looking in indexes: https://pypi.org/simple, https://us-python.pkg.dev/colab-wheels/public/simple/\n",
            "Collecting easyocr\n",
            "  Downloading easyocr-1.6.2-py3-none-any.whl (2.9 MB)\n",
            "\u001b[K     |████████████████████████████████| 2.9 MB 2.1 MB/s \n",
            "\u001b[?25hRequirement already satisfied: torchvision>=0.5 in /usr/local/lib/python3.7/dist-packages (from easyocr) (0.13.1+cu113)\n",
            "Collecting python-bidi\n",
            "  Downloading python_bidi-0.4.2-py2.py3-none-any.whl (30 kB)\n",
            "Collecting opencv-python-headless<=4.5.4.60\n",
            "  Downloading opencv_python_headless-4.5.4.60-cp37-cp37m-manylinux_2_17_x86_64.manylinux2014_x86_64.whl (47.6 MB)\n",
            "\u001b[K     |████████████████████████████████| 47.6 MB 2.0 MB/s \n",
            "\u001b[?25hCollecting ninja\n",
            "  Downloading ninja-1.10.2.3-py2.py3-none-manylinux_2_5_x86_64.manylinux1_x86_64.whl (108 kB)\n",
            "\u001b[K     |████████████████████████████████| 108 kB 60.8 MB/s \n",
            "\u001b[?25hRequirement already satisfied: scipy in /usr/local/lib/python3.7/dist-packages (from easyocr) (1.7.3)\n",
            "Requirement already satisfied: Pillow in /usr/local/lib/python3.7/dist-packages (from easyocr) (7.1.2)\n",
            "Requirement already satisfied: PyYAML in /usr/local/lib/python3.7/dist-packages (from easyocr) (6.0)\n",
            "Requirement already satisfied: numpy in /usr/local/lib/python3.7/dist-packages (from easyocr) (1.21.6)\n",
            "Requirement already satisfied: torch in /usr/local/lib/python3.7/dist-packages (from easyocr) (1.12.1+cu113)\n",
            "Requirement already satisfied: scikit-image in /usr/local/lib/python3.7/dist-packages (from easyocr) (0.18.3)\n",
            "Collecting pyclipper\n",
            "  Downloading pyclipper-1.3.0.post3-cp37-cp37m-manylinux_2_5_x86_64.manylinux1_x86_64.whl (604 kB)\n",
            "\u001b[K     |████████████████████████████████| 604 kB 61.4 MB/s \n",
            "\u001b[?25hRequirement already satisfied: Shapely in /usr/local/lib/python3.7/dist-packages (from easyocr) (1.8.4)\n",
            "Requirement already satisfied: requests in /usr/local/lib/python3.7/dist-packages (from torchvision>=0.5->easyocr) (2.23.0)\n",
            "Requirement already satisfied: typing-extensions in /usr/local/lib/python3.7/dist-packages (from torchvision>=0.5->easyocr) (4.1.1)\n",
            "Requirement already satisfied: six in /usr/local/lib/python3.7/dist-packages (from python-bidi->easyocr) (1.15.0)\n",
            "Requirement already satisfied: chardet<4,>=3.0.2 in /usr/local/lib/python3.7/dist-packages (from requests->torchvision>=0.5->easyocr) (3.0.4)\n",
            "Requirement already satisfied: urllib3!=1.25.0,!=1.25.1,<1.26,>=1.21.1 in /usr/local/lib/python3.7/dist-packages (from requests->torchvision>=0.5->easyocr) (1.24.3)\n",
            "Requirement already satisfied: certifi>=2017.4.17 in /usr/local/lib/python3.7/dist-packages (from requests->torchvision>=0.5->easyocr) (2022.6.15)\n",
            "Requirement already satisfied: idna<3,>=2.5 in /usr/local/lib/python3.7/dist-packages (from requests->torchvision>=0.5->easyocr) (2.10)\n",
            "Requirement already satisfied: networkx>=2.0 in /usr/local/lib/python3.7/dist-packages (from scikit-image->easyocr) (2.6.3)\n",
            "Requirement already satisfied: tifffile>=2019.7.26 in /usr/local/lib/python3.7/dist-packages (from scikit-image->easyocr) (2021.11.2)\n",
            "Requirement already satisfied: PyWavelets>=1.1.1 in /usr/local/lib/python3.7/dist-packages (from scikit-image->easyocr) (1.3.0)\n",
            "Requirement already satisfied: imageio>=2.3.0 in /usr/local/lib/python3.7/dist-packages (from scikit-image->easyocr) (2.9.0)\n",
            "Requirement already satisfied: matplotlib!=3.0.0,>=2.0.0 in /usr/local/lib/python3.7/dist-packages (from scikit-image->easyocr) (3.2.2)\n",
            "Requirement already satisfied: pyparsing!=2.0.4,!=2.1.2,!=2.1.6,>=2.0.1 in /usr/local/lib/python3.7/dist-packages (from matplotlib!=3.0.0,>=2.0.0->scikit-image->easyocr) (3.0.9)\n",
            "Requirement already satisfied: python-dateutil>=2.1 in /usr/local/lib/python3.7/dist-packages (from matplotlib!=3.0.0,>=2.0.0->scikit-image->easyocr) (2.8.2)\n",
            "Requirement already satisfied: cycler>=0.10 in /usr/local/lib/python3.7/dist-packages (from matplotlib!=3.0.0,>=2.0.0->scikit-image->easyocr) (0.11.0)\n",
            "Requirement already satisfied: kiwisolver>=1.0.1 in /usr/local/lib/python3.7/dist-packages (from matplotlib!=3.0.0,>=2.0.0->scikit-image->easyocr) (1.4.4)\n",
            "Installing collected packages: python-bidi, pyclipper, opencv-python-headless, ninja, easyocr\n",
            "  Attempting uninstall: opencv-python-headless\n",
            "    Found existing installation: opencv-python-headless 4.6.0.66\n",
            "    Uninstalling opencv-python-headless-4.6.0.66:\n",
            "      Successfully uninstalled opencv-python-headless-4.6.0.66\n",
            "Successfully installed easyocr-1.6.2 ninja-1.10.2.3 opencv-python-headless-4.5.4.60 pyclipper-1.3.0.post3 python-bidi-0.4.2\n"
          ]
        }
      ],
      "source": [
        "!pip install easyocr"
      ]
    },
    {
      "cell_type": "code",
      "source": [
        "pip install opencv-python-headless==4.5.2.52"
      ],
      "metadata": {
        "colab": {
          "base_uri": "https://localhost:8080/"
        },
        "id": "0ntKDmEu7yvu",
        "outputId": "5a029dea-9fdc-4308-e79b-9ac51523601b"
      },
      "execution_count": 2,
      "outputs": [
        {
          "output_type": "stream",
          "name": "stdout",
          "text": [
            "Looking in indexes: https://pypi.org/simple, https://us-python.pkg.dev/colab-wheels/public/simple/\n",
            "Collecting opencv-python-headless==4.5.2.52\n",
            "  Downloading opencv_python_headless-4.5.2.52-cp37-cp37m-manylinux2014_x86_64.whl (38.2 MB)\n",
            "\u001b[K     |████████████████████████████████| 38.2 MB 1.3 MB/s \n",
            "\u001b[?25hRequirement already satisfied: numpy>=1.14.5 in /usr/local/lib/python3.7/dist-packages (from opencv-python-headless==4.5.2.52) (1.21.6)\n",
            "Installing collected packages: opencv-python-headless\n",
            "  Attempting uninstall: opencv-python-headless\n",
            "    Found existing installation: opencv-python-headless 4.5.4.60\n",
            "    Uninstalling opencv-python-headless-4.5.4.60:\n",
            "      Successfully uninstalled opencv-python-headless-4.5.4.60\n",
            "Successfully installed opencv-python-headless-4.5.2.52\n"
          ]
        }
      ]
    },
    {
      "cell_type": "code",
      "source": [
        "!pip install python-docx"
      ],
      "metadata": {
        "colab": {
          "base_uri": "https://localhost:8080/"
        },
        "id": "1Gpnctag72EM",
        "outputId": "511e173d-d1e7-4ff8-e062-b8d26ef2d2c5"
      },
      "execution_count": 3,
      "outputs": [
        {
          "output_type": "stream",
          "name": "stdout",
          "text": [
            "Looking in indexes: https://pypi.org/simple, https://us-python.pkg.dev/colab-wheels/public/simple/\n",
            "Collecting python-docx\n",
            "  Downloading python-docx-0.8.11.tar.gz (5.6 MB)\n",
            "\u001b[K     |████████████████████████████████| 5.6 MB 2.1 MB/s \n",
            "\u001b[?25hRequirement already satisfied: lxml>=2.3.2 in /usr/local/lib/python3.7/dist-packages (from python-docx) (4.9.1)\n",
            "Building wheels for collected packages: python-docx\n",
            "  Building wheel for python-docx (setup.py) ... \u001b[?25l\u001b[?25hdone\n",
            "  Created wheel for python-docx: filename=python_docx-0.8.11-py3-none-any.whl size=184507 sha256=7c85da28035ffc185cb1f2ac28b8dbd6a5e677f2ddf7b13c52c383df5c33968a\n",
            "  Stored in directory: /root/.cache/pip/wheels/f6/6f/b9/d798122a8b55b74ad30b5f52b01482169b445fbb84a11797a6\n",
            "Successfully built python-docx\n",
            "Installing collected packages: python-docx\n",
            "Successfully installed python-docx-0.8.11\n"
          ]
        }
      ]
    },
    {
      "cell_type": "code",
      "source": [
        "import cv2\n",
        "import glob\n",
        "import easyocr\n",
        "from pylab import rcParams\n",
        "rcParams['figure.figsize']=2,2\n",
        "import numpy as np"
      ],
      "metadata": {
        "id": "sQomZdAc74yK"
      },
      "execution_count": 4,
      "outputs": []
    },
    {
      "cell_type": "code",
      "source": [
        "from google.colab.patches import cv2_imshow\n",
        "from docx import Document"
      ],
      "metadata": {
        "id": "Qkju9XFe78dU"
      },
      "execution_count": 5,
      "outputs": []
    },
    {
      "cell_type": "code",
      "source": [
        "from nltk.tokenize.treebank import TreebankWordDetokenizer"
      ],
      "metadata": {
        "id": "B_yFCCsH8AyX"
      },
      "execution_count": 6,
      "outputs": []
    },
    {
      "cell_type": "code",
      "source": [
        "path=glob.glob('/content/drive/MyDrive/multiple ocr files/New2/*')\n",
        "image=[]\n",
        "for file in path:\n",
        "  img=cv2.imread(file)\n",
        "  image.append(img)"
      ],
      "metadata": {
        "id": "-DV1hQea8DZ8"
      },
      "execution_count": 10,
      "outputs": []
    },
    {
      "cell_type": "code",
      "source": [
        "reader=easyocr.Reader(['en'])"
      ],
      "metadata": {
        "colab": {
          "base_uri": "https://localhost:8080/"
        },
        "id": "6vozA_t38GUq",
        "outputId": "37003c38-e961-4812-85a1-04bca5b3b84a"
      },
      "execution_count": 11,
      "outputs": [
        {
          "output_type": "stream",
          "name": "stderr",
          "text": [
            "WARNING:easyocr.easyocr:CUDA not available - defaulting to CPU. Note: This module is much faster with a GPU.\n"
          ]
        }
      ]
    },
    {
      "cell_type": "code",
      "source": [
        "count=0\n",
        "for i in image:\n",
        "  list_img=[]\n",
        "  output=reader.readtext(i)\n",
        "  for j in output:\n",
        "    image_text=j[1]\n",
        "    list_img.append(image_text)\n",
        "    text=TreebankWordDetokenizer().detokenize(list_img)\n",
        "  print(text)\n",
        "  document = Document()\n",
        "  document.add_heading('Covid Virus', 0)\n",
        "  p = document.add_paragraph(text)\n",
        "  count+=1\n",
        "  document.save('Demo_doc #{}.docx'.format(count))"
      ],
      "metadata": {
        "colab": {
          "base_uri": "https://localhost:8080/"
        },
        "id": "Wp4sGp-j8glI",
        "outputId": "dce685f9-295b-489d-d402-2f007abde237"
      },
      "execution_count": 13,
      "outputs": [
        {
          "output_type": "stream",
          "name": "stdout",
          "text": [
            "virological; radiological; and pathological observations indicated that the monkeys with reexposure had no recurrence of COVID-19, like the SARS-CoV-2-infected monkeys without rechallenge. These findings suggest that primary infection with SARS-CoV-2 could protect from later exposures to the   virus, which could help in defining   disease prognosis and crucial inferences for designing and developing potent vaccines against COVID-19 (274). PREVENTION, CONTROL, AND MANAGEMENT In contrast to their response to the 2002 SARS outbreak, China has shown immense political openness in reporting the COVID-19 outbreak promptly: have also performed rapid sequencing of COVID-19 at multiple levels and shared the findings globally within of identifying the novel virus (225). The move made by China opened a new chapter in global health security and diplomacy: Even though complete lockdown was declared following the COVID-19 outbreak in Wuhan; the large-scale movement of  people has resulted in radiating  spread of infections in the surrounding   provinces as well as to several other countries. Large-scale   screening programs might They days\n",
            "blood being thicker than broth, he was through: The Blaines were attached to no city_ were the Blaines of Lake Geneva; had enough relatives to serve in place of   friends, and an enviable standing   from Pasadena to Cod. But Beatrice grew more and more prone to like only new acquaintances, as there were certain stories, such as the history of her constitution and its many amendments; memories of her years abroad, that it was necessary for her to repeat at regular intervals. Like Freudian dreams, they must be thrown off, else would   sweep in and siege to her nerves: But Beatrice was critical about American women, especially the floating population of ex- Westerners. have accents, my dear; she told Amory; \"not Southern accents or Boston accents, not an accent attached to any locality, just an accent\" she became dreamy. pick up old, moth-eaten London accents that are down on their luck and have to be used by some one. pulled They quite they Cape they ay \"They \"They\n",
            "absence of  this   protein iS related to the altered virulence of coronaviruses due to changes in morphology and tropism (54). The E protein consists of three domains, namely; short hydrophilic amino terminal_ hydrophobic transmembrane domain, and an efficient C-terminal domain (51). The SARS-CoV-2 E protein reveals similar amino acid constitution without any substitution (16). N Protein The N protein   of coronavirus is  multipurpose. Among several functions, it plays a role in complex formation with the viral genome, facilitates M protein interaction needed virion   assembly, and enhances the transcription efficiency of the virus (55, 56). It   contains three highly conserved and distinct domains, namely, an NTD, an RNA-binding domain or linker region (LKR), and CTD (57). The NTD binds with the 3' end of the viral genome perhaps  via   electrostatic interactions, and is highly diverged both in   length and   sequence (58). The charged LKR is serine and arginine rich and is also known as the SR (serine and arginine) domain (59). The LKR is capable of direct interaction with in vitro RNA interaction and is responsible for cell signaling (60, 61)_ It also modulates the antiviral response of the host by working as an antagonist for interferon large during\n",
            "We assessed the nucleotide   percent   similarity the   MegAlign   software   program, where    the similarity between the novel SARS-CoV-2 isolates was in the range of 99.4% to 100%. Among the other Serbecovirus CoV sequences, the novel SARS-CoV- 2 sequences revealed the highest similarity to bat- SL-CoV with nucleotide percent  identity ranges between 88.12 and 89.65%. Meanwhile, earlier reported SARS-CoVs showed 70.6 to 74.9% similarity to SARS-CoV-2 at the nucleotide level_ Further; the nucleotide percent similarity was 55.4%, 45.5% to 47.9%, 46.2%/ to 46.6%, and 45.0% to 46.3% to the other four subgenera, namely; Hibecovirus, Nobecovirus, Merbecovirus_ and Embecovirus,  respectively: The   percent   similarity index of current outbreak isolates indicates close relationship between SARS-CoV-2 isolates and bat- SL-CoV,   indicating common origin: However; particular pieces of evidence based on further complete  genomic   analysis of current  isolates are necessary to draw any conclusions, although it was ascertained that the current novel SARS-CoV-2 isolates belong to the subgenus Sarbecovirus in the diverse  range of betacoronaviruses. Their possible ancestor was hypothesized to be from bat CoV strains, wherein bats might have played a crucial role in harboring this class of viruses. using\n",
            "virological; radiological; and pathological observations indicated that the monkeys with reexposure had no recurrence of COVID-19, like the SARS-CoV-2-infected monkeys without rechallenge. These findings suggest that primary infection with SARS-CoV-2 could protect from later exposures to the   virus, which could help in defining   disease prognosis and crucial inferences for designing and developing potent vaccines against COVID-19 (274). PREVENTION, CONTROL, AND MANAGEMENT In contrast to their response to the 2002 SARS outbreak, China has shown immense political openness in reporting the COVID-19 outbreak promptly: have also performed rapid sequencing of COVID-19 at multiple levels and shared the findings globally within of identifying the novel virus (225). The move made by China opened a new chapter in global health security and diplomacy: Even though complete lockdown was declared following the COVID-19 outbreak in Wuhan; the large-scale movement of  people has resulted in radiating  spread of infections in the surrounding   provinces as well as to several other countries. Large-scale   screening programs might They days\n",
            "significance of frequent and hand hygiene and sanitation practices needs to be given due emphasis (249-252). Future explorative research needs to be conducted with regard to the fecal-oral transmission of SARS-CoV-2 with focusing on environmental investigations to find out if this virus could stay viable in situations and atmospheres facilitating such potent routes of transmission. The correlation of fecal concentrations of viral RNA with disease severity needs to be determined, with assessing the   gastrointestinal symptoms and the possibility of fecal SARS-CoV-2 RNA detection the COVID-19 incubation period or convalescence phases of the disease (249-252). The lower respiratory tract sampling techniques like bronchoalveolar lavage fluid aspirate, are considered the ideal   clinical  materials, rather  than the throat swab, due to their higher positive rate on the nucleic acid test 148). The diagnosis of COVID 19 can be made by  using  upper-respiratory-tract specimens collected nasopharyngeal and oropharyngeal swabs However; these techniques are associated with unnecessary risks to health care workers due to close contact with  patients (152). Similarly, single patient with a high viral load was reported to contaminate an entire endoscopy room by shedding the virus, which may remain viable for at good along along during using\n",
            "We assessed the nucleotide   percent   similarity the   MegAlign   software   program, where    the similarity between the novel SARS-CoV-2 isolates was in the range of 99.4% to 100%. Among the other Serbecovirus CoV sequences, the novel SARS-CoV- 2 sequences revealed the highest similarity to bat- SL-CoV with nucleotide percent  identity ranges between 88.12 and 89.65%. Meanwhile, earlier reported SARS-CoVs showed 70.6 to 74.9% similarity to SARS-CoV-2 at the nucleotide level_ Further; the nucleotide percent similarity was 55.4%, 45.5% to 47.9%, 46.2%/ to 46.6%, and 45.0% to 46.3% to the other four subgenera, namely; Hibecovirus, Nobecovirus, Merbecovirus_ and Embecovirus,  respectively: The   percent   similarity index of current outbreak isolates indicates close relationship between SARS-CoV-2 isolates and bat- SL-CoV,   indicating common origin: However; particular pieces of evidence based on further complete  genomic   analysis of current  isolates are necessary to draw any conclusions, although it was ascertained that the current novel SARS-CoV-2 isolates belong to the subgenus Sarbecovirus in the diverse  range of betacoronaviruses. Their possible ancestor was hypothesized to be from bat CoV strains, wherein bats might have played a crucial role in harboring this class of viruses. using\n",
            "significance of frequent and hand hygiene and sanitation practices needs to be given due emphasis (249-252). Future explorative research needs to be conducted with regard to the fecal-oral transmission of SARS-CoV-2 with focusing on environmental investigations to find out if this virus could stay viable in situations and atmospheres facilitating such potent routes of transmission. The correlation of fecal concentrations of viral RNA with disease severity needs to be determined, with assessing the   gastrointestinal symptoms and the possibility of fecal SARS-CoV-2 RNA detection the COVID-19 incubation period or convalescence phases of the disease (249-252). The lower respiratory tract sampling techniques like bronchoalveolar lavage fluid aspirate, are considered the ideal   clinical  materials, rather  than the throat swab, due to their higher positive rate on the nucleic acid test 148). The diagnosis of COVID 19 can be made by  using  upper-respiratory-tract specimens collected nasopharyngeal and oropharyngeal swabs However; these techniques are associated with unnecessary risks to health care workers due to close contact with  patients (152). Similarly, single patient with a high viral load was reported to contaminate an entire endoscopy room by shedding the virus, which may remain viable for at good along along during using\n",
            "vitro antiviral potential of FAD-approved drugs, viz; ribavirin, penciclovir; nitazoxanide, nafamostat, and chloroquine, tested in comparison to remdesivir and favipiravir (broad-spectrum antiviral drugs) revealed remdesivir and  chloroquine to be highly  effective SARS-CoV-2 infection in vitro (194). Ribavirin;, penciclovir; and favipiravir   might not possess noteworthy in vivo antiviral actions for SARS-CoV-2, since higher  concentrations of these nucleoside analogs are needed in vitro to lessen the viral infection_ Both remdesivir and chloroquine are used in humans to treat other  diseases, and such safer can be explored for assessing their effectiveness in COVID-19 patients_ Several therapeutic agents, such as lopinavir/ritonavir; chloroquine, and hydroxychloroquine, have been   proposed for the clinical management of COVID-19 (299). A molecular  docking   study,  conducted in the RNA- dependent RNA polymerase (RdRp) of SARS-CoV-2 different commercially available antipolymerase identified that such as ribavirin, remdesivir; galidesivir; tenofovir; and sofosbuvir bind RdRp tightly, indicating their vast potential to be used COVID-19 (305). A broad-spectrum antiviral that was developed in the United States, tilorone dihydrochloride (tilorone), against being drugs using drugs, drugs against drug\n",
            "absence of  this   protein iS related to the altered virulence of coronaviruses due to changes in morphology and tropism (54). The E protein consists of three domains, namely; short hydrophilic amino terminal_ hydrophobic transmembrane domain, and an efficient C-terminal domain (51). The SARS-CoV-2 E protein reveals similar amino acid constitution without any substitution (16). N Protein The N protein   of coronavirus is  multipurpose. Among several functions, it plays a role in complex formation with the viral genome, facilitates M protein interaction needed virion   assembly, and enhances the transcription efficiency of the virus (55, 56). It   contains three highly conserved and distinct domains, namely, an NTD, an RNA-binding domain or linker region (LKR), and CTD (57). The NTD binds with the 3' end of the viral genome perhaps  via   electrostatic interactions, and is highly diverged both in   length and   sequence (58). The charged LKR is serine and arginine rich and is also known as the SR (serine and arginine) domain (59). The LKR is capable of direct interaction with in vitro RNA interaction and is responsible for cell signaling (60, 61)_ It also modulates the antiviral response of the host by working as an antagonist for interferon large during\n",
            "understanding of the inflammation associated with this infection (24). SARS is a viral respiratory disease caused by formerly  unrecognized animal CoV that originated from the wet markets in southern China after adapting to the human host, thereby   enabling transmission between humans (90). The SARS outbreak reported in 2002 to 2003 had 8,098 confirmed cases with 774 total deaths (9.6%) (93). The outbreak severely affected the Asia Pacific especially mainland China (94). Even though the case fatality rate (CFR) of SARS-CoV-2 (COVID-19) is lower than that of SARS-CoV, there exists a severe concern linked to this outbreak due to its   epidemiological   similarity to influenza viruses (95, 279).  This can fail  the public health system_ resulting in a pandemic (96)  MERS is another   respiratory disease  that was first reported in Saudi Arabia during the year 2012. The disease was found to have a CFR of around 35% (97). The analysis of available data sets suggests that the incubation period of SARS-CoV-2, SARS-CoV, and MERS-CoV is in almost the same range. The longest predicted incubation time of SARS-CoV-2 is 14 days.   Hence, suspected individuals are   isolated for 14 to avoid the risk of further spread (98). Even though high similarity has been reported lung region, days\n",
            "We assessed the nucleotide   percent   similarity the   MegAlign   software   program, where    the similarity between the novel SARS-CoV-2 isolates was in the range of 99.4% to 100%. Among the other Serbecovirus CoV sequences, the novel SARS-CoV- 2 sequences revealed the highest similarity to bat- SL-CoV with nucleotide percent  identity ranges between 88.12 and 89.65%. Meanwhile, earlier reported SARS-CoVs showed 70.6 to 74.9% similarity to SARS-CoV-2 at the nucleotide level_ Further; the nucleotide percent similarity was 55.4%, 45.5% to 47.9%, 46.2%/ to 46.6%, and 45.0% to 46.3% to the other four subgenera, namely; Hibecovirus, Nobecovirus, Merbecovirus_ and Embecovirus,  respectively: The   percent   similarity index of current outbreak isolates indicates close relationship between SARS-CoV-2 isolates and bat- SL-CoV,   indicating common origin: However; particular pieces of evidence based on further complete  genomic   analysis of current  isolates are necessary to draw any conclusions, although it was ascertained that the current novel SARS-CoV-2 isolates belong to the subgenus Sarbecovirus in the diverse  range of betacoronaviruses. Their possible ancestor was hypothesized to be from bat CoV strains, wherein bats might have played a crucial role in harboring this class of viruses. using\n",
            "tutelage measured by   the number of things   and people one  could be contemptuous of and charming about; culture  rich in all arts  and traditions, barren of all ideas, in the last of those when the gardener  clipped the inferior roses to produce one perfect bud_ In her  less   important moments   she returned to America, met Stephen Blaine and married him this   almost entirely because she was little bit weary, a little bit sad. Her only child was carried through tiresome season and brought into the world on spring day in ninety-six: When Amory was five he was already a delightful companion for her: He was an auburn-haired boy, with great, handsome eyes which he would grow up to in time; a facile imaginative mind and a taste for dress. From his fourth to his tenth year he did the country with his   mother in her father's   private car, from Coronado, where his mother became so bored that she had a nervous breakdown in fashionable hotel, down days great fancy\n",
            "wrought  havoc In) Cha alld caused pandemic situation in the worldwide  population, leading to disease outbreaks that have not been controlled to date,   although extensive efforts are in place to counter this virus (25). This virus has been proposed to be designated/named severe acute respiratory syndrome coronavirus 2 (SARS-CoV-2) by the International Committee on   Taxonomy of Viruses (ICTV), which determined the virus belongs to the Severe acute respiratory   syndrome-related coronavirus category and found this virus is related to SARS-CoVs (26). SARS-CoV-2 is a member of the order Nidovirales, family Coronaviridae, subfamily Orthocoronavirinae, which is subdivided into four genera, Alphacoronavirus_ Betacoronavirus, Gammacoronavirus and Deltacoronavirus (3, 27). The genera Alphacoronavirus and Betacoronavirus originate from bats, while Gammacoronavirus and Deltacoronavirus have evolved from bird and swine gene (24,28,29,275) Coronaviruses possess an unsegmented,  single- stranded, positive-sense RNA genome of around 30 kb, enclosed by a 5'-cap and 3'-poly(A) tail (30). The genome of SARS-CoV-2 is 29,891 bp with G+C content of 38% (31). These viruses are encircled with an envelope containing viral being put viz, pools long;\n",
            "CTfcs WCIJC, '1 V - [~ administration of the recombinant adenovirus-based vaccine in BALBlc mice was found t0 induce lasting neutralizing immunity against MERS spike pseudotyped virus, characterized by the induction of systemic IgG, secretory IgA, and lung-resident memory T-cell responses (177). Immunoinformatics methods have been employed for the genome-wide screening of potential vaccine targets   among the different immunogens of MERS-CoV (178). The N protein and the potential B-cell epitopes of MERS- CoV E protein have been suggested as immunoprotective targets inducing both T-cell and neutralizing antibody responses (178,179). The collaborative effort of the researchers of Mountain Laboratories and Oxford University is designing chimpanzee adenovirus-vectored vaccine to counter COVID-19 (180). The Coalition for Epidemic Preparedness Innovations (CEPI) has initiated three programs to design SARS-CoV-2 vaccines (181). CEPI has a collaborative project with Inovio for  designing MERS-CoV DNA vaccine that could potentiate effective immunity. CEPI and the University of Queensland are designing molecular   clamp vaccine platform for MERS-CoV and other pathogens; which could assist in the easier identification of antigens  by the   immune (181) CEPL has also funded Moderna to develon long- Rocky system\n",
            "tutelage measured by   the number of things   and people one  could be contemptuous of and charming about; culture  rich in all arts  and traditions, barren of all ideas, in the last of those when the gardener  clipped the inferior roses to produce one perfect bud_ In her  less   important moments   she returned to America, met Stephen Blaine and married him this   almost entirely because she was little bit weary, a little bit sad. Her only child was carried through tiresome season and brought into the world on spring day in ninety-six: When Amory was five he was already a delightful companion for her: He was an auburn-haired boy, with great, handsome eyes which he would grow up to in time; a facile imaginative mind and a taste for dress. From his fourth to his tenth year he did the country with his   mother in her father's   private car, from Coronado, where his mother became so bored that she had a nervous breakdown in fashionable hotel, down days great fancy\n",
            "and deaths The COVID-19 outbreak has also been associated with severe economic   impacts globally due to the sudden interruption of global trade and supply chains that forced multinational companies to make decisions that led to significant economic losses (66). The recent increase in the number of confirmed critically ill patients with COVID-19 has already surpassed the intensive care supplies, limiting intensive care services to only small portion of critically ill patients (67). This might also have contributed to the increased case fatality rate observed in the COVID-19 outbreak. Viewpoint on SARS-CoV-2 Transmission; Spread, and Emergence The   novel   coronavirus was   identified within month (28 days) of the outbreak This is impressively fast  compared to the time taken to identify SARS- CoV   reported in Foshan; Guangdong Province, China (125 days) (68). Immediately after the confirmation of viral etiology; the Chinese virologists rapidly released the genomic sequence of SARS-CoV-2, which played crucial role in controlling the spread of this newly emerged novel coronavirus to other   parts of the world (69). The possible origin of SARS-CoV-2 and the first mode of\n",
            "We assessed the nucleotide   percent   similarity the   MegAlign   software   program, where    the similarity between the novel SARS-CoV-2 isolates was in the range of 99.4% to 100%. Among the other Serbecovirus CoV sequences, the novel SARS-CoV- 2 sequences revealed the highest similarity to bat- SL-CoV with nucleotide percent  identity ranges between 88.12 and 89.65%. Meanwhile, earlier reported SARS-CoVs showed 70.6 to 74.9% similarity to SARS-CoV-2 at the nucleotide level_ Further; the nucleotide percent similarity was 55.4%, 45.5% to 47.9%, 46.2%/ to 46.6%, and 45.0% to 46.3% to the other four subgenera, namely; Hibecovirus, Nobecovirus, Merbecovirus_ and Embecovirus,  respectively: The   percent   similarity index of current outbreak isolates indicates close relationship between SARS-CoV-2 isolates and bat- SL-CoV,   indicating common origin: However; particular pieces of evidence based on further complete  genomic   analysis of current  isolates are necessary to draw any conclusions, although it was ascertained that the current novel SARS-CoV-2 isolates belong to the subgenus Sarbecovirus in the diverse  range of betacoronaviruses. Their possible ancestor was hypothesized to be from bat CoV strains, wherein bats might have played a crucial role in harboring this class of viruses. using\n",
            "wrought  havoc In) Cha alld caused pandemic situation in the worldwide  population, leading to disease outbreaks that have not been controlled to date,   although extensive efforts are in place to counter this virus (25). This virus has been proposed to be designated/named severe acute respiratory syndrome coronavirus 2 (SARS-CoV-2) by the International Committee on   Taxonomy of Viruses (ICTV), which determined the virus belongs to the Severe acute respiratory   syndrome-related coronavirus category and found this virus is related to SARS-CoVs (26). SARS-CoV-2 is a member of the order Nidovirales, family Coronaviridae, subfamily Orthocoronavirinae, which is subdivided into four genera, Alphacoronavirus_ Betacoronavirus, Gammacoronavirus and Deltacoronavirus (3, 27). The genera Alphacoronavirus and Betacoronavirus originate from bats, while Gammacoronavirus and Deltacoronavirus have evolved from bird and swine gene (24,28,29,275) Coronaviruses possess an unsegmented,  single- stranded, positive-sense RNA genome of around 30 kb, enclosed by a 5'-cap and 3'-poly(A) tail (30). The genome of SARS-CoV-2 is 29,891 bp with G+C content of 38% (31). These viruses are encircled with an envelope containing viral being put viz, pools long;\n",
            "in his underwear; so to speak: #0#A KISS FOR AMORY His lip curled when he read it: \"Iam going to have a bobbing party, it said, \"on Thursday, December the seventeenth; at five o'clock; and I would like it much if you could come Yours truly, RS.VP St. Claire. He had been two months in Minneapolis, and his chief struggle had been the concealing the other guys at school\" how particularly superior he felt himself to be, yet this conviction was built upon shifting sands_ He had shown off one day in French class (he was in senior French class) to the utter confusion of Mr: Reardon, whose accent Amory damned contemptuously, and to the delight of the class. Mr. Reardon, who had spent several weeks in Paris ten years   before, took his revenge on the verbs, whenever he had his book open. But another time Amory showed off in history class, with quite disastrous 13 very Myra from\n",
            "vitro antiviral potential of FAD-approved drugs, viz; ribavirin, penciclovir; nitazoxanide, nafamostat, and chloroquine, tested in comparison to remdesivir and favipiravir (broad-spectrum antiviral drugs) revealed remdesivir and  chloroquine to be highly  effective SARS-CoV-2 infection in vitro (194). Ribavirin;, penciclovir; and favipiravir   might not possess noteworthy in vivo antiviral actions for SARS-CoV-2, since higher  concentrations of these nucleoside analogs are needed in vitro to lessen the viral infection_ Both remdesivir and chloroquine are used in humans to treat other  diseases, and such safer can be explored for assessing their effectiveness in COVID-19 patients_ Several therapeutic agents, such as lopinavir/ritonavir; chloroquine, and hydroxychloroquine, have been   proposed for the clinical management of COVID-19 (299). A molecular  docking   study,  conducted in the RNA- dependent RNA polymerase (RdRp) of SARS-CoV-2 different commercially available antipolymerase identified that such as ribavirin, remdesivir; galidesivir; tenofovir; and sofosbuvir bind RdRp tightly, indicating their vast potential to be used COVID-19 (305). A broad-spectrum antiviral that was developed in the United States, tilorone dihydrochloride (tilorone), against being drugs using drugs, drugs against drug\n",
            "CTfcs WCIJC, '1 V - [~ administration of the recombinant adenovirus-based vaccine in BALBlc mice was found t0 induce lasting neutralizing immunity against MERS spike pseudotyped virus, characterized by the induction of systemic IgG, secretory IgA, and lung-resident memory T-cell responses (177). Immunoinformatics methods have been employed for the genome-wide screening of potential vaccine targets   among the different immunogens of MERS-CoV (178). The N protein and the potential B-cell epitopes of MERS- CoV E protein have been suggested as immunoprotective targets inducing both T-cell and neutralizing antibody responses (178,179). The collaborative effort of the researchers of Mountain Laboratories and Oxford University is designing chimpanzee adenovirus-vectored vaccine to counter COVID-19 (180). The Coalition for Epidemic Preparedness Innovations (CEPI) has initiated three programs to design SARS-CoV-2 vaccines (181). CEPI has a collaborative project with Inovio for  designing MERS-CoV DNA vaccine that could potentiate effective immunity. CEPI and the University of Queensland are designing molecular   clamp vaccine platform for MERS-CoV and other pathogens; which could assist in the easier identification of antigens  by the   immune (181) CEPL has also funded Moderna to develon long- Rocky system\n",
            "in his underwear; so to speak: #0#A KISS FOR AMORY His lip curled when he read it: \"Iam going to have a bobbing party, it said, \"on Thursday, December the seventeenth; at five o'clock; and I would like it much if you could come Yours truly, RS.VP St. Claire. He had been two months in Minneapolis, and his chief struggle had been the concealing the other guys at school\" how particularly superior he felt himself to be, yet this conviction was built upon shifting sands_ He had shown off one day in French class (he was in senior French class) to the utter confusion of Mr: Reardon, whose accent Amory damned contemptuously, and to the delight of the class. Mr. Reardon, who had spent several weeks in Paris ten years   before, took his revenge on the verbs, whenever he had his book open. But another time Amory showed off in history class, with quite disastrous 13 very Myra from\n",
            "blood being thicker than broth, he was through: The Blaines were attached to no city_ were the Blaines of Lake Geneva; had enough relatives to serve in place of   friends, and an enviable standing   from Pasadena to Cod. But Beatrice grew more and more prone to like only new acquaintances, as there were certain stories, such as the history of her constitution and its many amendments; memories of her years abroad, that it was necessary for her to repeat at regular intervals. Like Freudian dreams, they must be thrown off, else would   sweep in and siege to her nerves: But Beatrice was critical about American women, especially the floating population of ex- Westerners. have accents, my dear; she told Amory; \"not Southern accents or Boston accents, not an accent attached to any locality, just an accent\" she became dreamy. pick up old, moth-eaten London accents that are down on their luck and have to be used by some one. pulled They quite they Cape they ay \"They \"They\n",
            "and deaths The COVID-19 outbreak has also been associated with severe economic   impacts globally due to the sudden interruption of global trade and supply chains that forced multinational companies to make decisions that led to significant economic losses (66). The recent increase in the number of confirmed critically ill patients with COVID-19 has already surpassed the intensive care supplies, limiting intensive care services to only small portion of critically ill patients (67). This might also have contributed to the increased case fatality rate observed in the COVID-19 outbreak. Viewpoint on SARS-CoV-2 Transmission; Spread, and Emergence The   novel   coronavirus was   identified within month (28 days) of the outbreak This is impressively fast  compared to the time taken to identify SARS- CoV   reported in Foshan; Guangdong Province, China (125 days) (68). Immediately after the confirmation of viral etiology; the Chinese virologists rapidly released the genomic sequence of SARS-CoV-2, which played crucial role in controlling the spread of this newly emerged novel coronavirus to other   parts of the world (69). The possible origin of SARS-CoV-2 and the first mode of\n"
          ]
        }
      ]
    }
  ]
}